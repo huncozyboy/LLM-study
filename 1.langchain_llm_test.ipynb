{
 "cells": [
  {
   "cell_type": "code",
   "execution_count": 1,
   "id": "cbf3be92",
   "metadata": {},
   "outputs": [
    {
     "data": {
      "text/plain": [
       "True"
      ]
     },
     "execution_count": 1,
     "metadata": {},
     "output_type": "execute_result"
    }
   ],
   "source": [
    "from dotenv import load_dotenv\n",
    "\n",
    "load_dotenv()"
   ]
  },
  {
   "cell_type": "code",
   "execution_count": 2,
   "id": "5917a67a",
   "metadata": {},
   "outputs": [],
   "source": [
    "from langchain_openai import ChatOpenAI\n",
    "\n",
    "llm = ChatOpenAI()"
   ]
  },
  {
   "cell_type": "code",
   "execution_count": 6,
   "id": "39670bec",
   "metadata": {},
   "outputs": [],
   "source": [
    "ai_message = llm.invoke(\"한국 국적 야구선수 기준, GOAT 한명만 뽑는다면 누구인가요 ?\")"
   ]
  },
  {
   "cell_type": "code",
   "execution_count": 7,
   "id": "d502222c",
   "metadata": {},
   "outputs": [
    {
     "data": {
      "text/plain": [
       "'한국 국적 야구선수 중 GOAT(최고 선수)로 뽑히는 한 명을 고르기는 어려운 일이지만, 현재까지 한국 야구계에서 뛴 선수 중에는 이승엽 선수와 박찬호 선수가 많은 사랑을 받고 있는 선수들입니다. 이들 중에서 GOAT로 뽑히는 것은 팬들과 전문가들 사이에서 의견이 분분할 수 있지만, 한국 야구의 역사와 영향력을 고려한다면 이승엽 선수가 GOAT로 선택될 수 있을 것으로 예상됩니다. 함께 한국 야구를 대표해 세계무대에서 우수한 활약을 펼쳤던 선수들이니만큼, 이승엽 선수와 박찬호 선수 모두 한국 야구의 영광을 더욱 빛나게 해주었던 선수들로 기억될 것입니다.'"
      ]
     },
     "execution_count": 7,
     "metadata": {},
     "output_type": "execute_result"
    }
   ],
   "source": [
    "ai_message.content"
   ]
  },
  {
   "cell_type": "code",
   "execution_count": null,
   "id": "181b3daa",
   "metadata": {},
   "outputs": [],
   "source": []
  }
 ],
 "metadata": {
  "kernelspec": {
   "display_name": "inflearn-llm-application",
   "language": "python",
   "name": "python3"
  },
  "language_info": {
   "codemirror_mode": {
    "name": "ipython",
    "version": 3
   },
   "file_extension": ".py",
   "mimetype": "text/x-python",
   "name": "python",
   "nbconvert_exporter": "python",
   "pygments_lexer": "ipython3",
   "version": "3.10.13"
  }
 },
 "nbformat": 4,
 "nbformat_minor": 5
}
