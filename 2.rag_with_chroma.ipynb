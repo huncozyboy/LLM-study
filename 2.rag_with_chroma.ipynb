{
 "cells": [
  {
   "cell_type": "code",
   "execution_count": 36,
   "id": "bda23848",
   "metadata": {},
   "outputs": [],
   "source": [
    "from langchain_community.document_loaders import Docx2txtLoader\n",
    "from langchain_text_splitters import RecursiveCharacterTextSplitter\n",
    "\n",
    "text_splitter = RecursiveCharacterTextSplitter(\n",
    "    chunk_size=1500,\n",
    "    chunk_overlap=200,\n",
    ")\n",
    "\n",
    "loader = Docx2txtLoader('./tax.docx')\n",
    "document_list = loader.load_and_split(text_splitter=text_splitter)"
   ]
  },
  {
   "cell_type": "code",
   "execution_count": 37,
   "id": "2a6f959e",
   "metadata": {},
   "outputs": [],
   "source": [
    "from dotenv import load_dotenv\n",
    "from langchain_openai import OpenAIEmbeddings\n",
    "\n",
    "load_dotenv()\n",
    "\n",
    "embedding = OpenAIEmbeddings(model='text-embedding-3-large')"
   ]
  },
  {
   "cell_type": "code",
   "execution_count": 43,
   "id": "a3bb612d",
   "metadata": {},
   "outputs": [],
   "source": [
    "from langchain_chroma import Chroma\n",
    "\n",
    "# database = Chroma.from_documents(documents=document_list, collection_name='chroma-tax', embedding=embedding,persist_directory=\"./chroma\")\n",
    "database = Chroma(collection_name='chroma-tax', persist_directory='./chroma', embedding_function=embedding)"
   ]
  },
  {
   "cell_type": "code",
   "execution_count": 39,
   "id": "24a32d6f",
   "metadata": {},
   "outputs": [],
   "source": [
    "query = '연봉 5천만원인 직장인의 소득세는 얼마인가요?'\n",
    "\n",
    "# retrieved_docs = database.similarity_search(query, k=3)"
   ]
  },
  {
   "cell_type": "markdown",
   "id": "050319fa",
   "metadata": {},
   "source": []
  },
  {
   "cell_type": "code",
   "execution_count": 40,
   "id": "f3265696",
   "metadata": {},
   "outputs": [],
   "source": [
    "from langchain_openai import ChatOpenAI\n",
    "\n",
    "llm = ChatOpenAI(model='gpt-4o')"
   ]
  },
  {
   "cell_type": "code",
   "execution_count": null,
   "id": "fdda0fff",
   "metadata": {},
   "outputs": [],
   "source": [
    "# prompt = f\"\"\"[Identity]\n",
    "# - 당신은 최고의 한국 소득세 전문가 입니다\n",
    "# - [Context]를 참고해서 사용자의 질문에 답변해주세요\n",
    "\n",
    "# [Context]\n",
    "# {retrieved_docs}\n",
    "\n",
    "# Question: {query}\n",
    "# \"\"\"\n"
   ]
  },
  {
   "cell_type": "code",
   "execution_count": null,
   "id": "c4017f79",
   "metadata": {},
   "outputs": [],
   "source": [
    "# ai_message = llm.invoke(prompt)"
   ]
  },
  {
   "cell_type": "code",
   "execution_count": null,
   "id": "219a0bdc",
   "metadata": {},
   "outputs": [
    {
     "data": {
      "text/plain": [
       "'연봉 5천만 원인 직장인의 소득세를 계산하려면 여러 요소를 고려해야 합니다. 한국 소득세는 누진세 구조를 가지고 있으므로, 소득 구간에 따라 다른 세율이 적용됩니다. 기본적인 과세 표준과 세율, 그리고 공제 항목을 고려해서 계산합니다. \\n\\n기본적으로 적용되는 세율은 다음과 같습니다 (이 세율은 참고용이며, 최신 세율은 정부의 공식 문서를 참조해야 합니다):\\n\\n- 1,200만 원 이하: 6%\\n- 1,200만 원 초과 ~ 4,600만 원 이하: 15%\\n- 4,600만 원 초과 ~ 8,800만 원 이하: 24%\\n- 8,800만 원 초과: 35% \\n\\n연봉 5천만 원인 경우:\\n1. 1,200만 원까지는 6%의 세율이 적용됩니다: 1,200만 원 × 6% = 72만 원\\n2. 1,200만 원 초과 ~ 4,600만 원까지는 15%의 세율이 적용됩니다: 3,400만 원 × 15% = 510만 원\\n3. 4,600만 원 초과분 400만 원에 대해서는 24%의 세율이 적용됩니다: 400만 원 × 24% = 96만 원\\n\\n이제 각 구간의 세액을 합산하여 총세액을 계산합니다:\\n- 72만 원 + 510만 원 + 96만 원 = 678만 원\\n\\n이 계산은 기본적인 예시입니다. 여기서 소득공제나 세액공제 같은 개인의 구체적인 상황에 따라 최종적인 소득세가 달라질 수 있습니다. 공제항목에는 의료비, 교육비, 보험료, 주택자금, 기부금 등이 포함될 수 있으므로, 이를 적용하면 실질적인 세액은 달라질 수 있습니다. 개인의 정확한 소득세를 계산하기 위해서는 이러한 다양한 요소를 고려한 세무 전문가의 상담이 필요합니다.'"
      ]
     },
     "execution_count": 32,
     "metadata": {},
     "output_type": "execute_result"
    }
   ],
   "source": [
    "# ai_message.content"
   ]
  },
  {
   "cell_type": "markdown",
   "id": "d25f4d2a",
   "metadata": {},
   "source": [
    "'직장인의 소득세를 계산하려면, 과세표준과 세율을 적용하여야 합니다. 연봉 5천만원인 경우, 이를 바탕으로 소득세를 계산하는 절차는 대략 다음과 같습니다 (2023년 기준의 세율과 공제를 사용합니다):\\n\\n1. **과세표준 계산:**\\n   - 우선 총급여액에서 근로소득공제를 차감하여 과세표준을 계산해야 합니다.\\n   - 근로소득공제는 총급여액에 따라 달라지며, 일반적으로 표준 공제율이나 금액을 적용합니다.\\n   - 근로소득공제 예시 (변동 가능): 총급여액 5천만원인 경우 약 15% 정도의 근로소득공제가 일반적으로 사용됩니다. 이를 따르면 근로소득공제액은 대략 750만원 정도입니다.\\n   \\n2. **과세표준 구하기:**\\n   - 과세표준 = 총급여액 - 근로소득공제\\n   - 과세표준 = 5,000만원 - 750만원 = 4,250만원\\n\\n3. **세율 적용:**\\n   - 한국의 소득세는 누진세율 구조로 되어 있습니다. 과세표준에 따라 적용되는 세율이 다릅니다.\\n   - 만약 과세표준이 1,200만원 초과 ~ 4,600만원 이하 구간에 있다면, 대략의 세율은 15%입니다. 정확한 세율 및 구간은 변동 가능하니 최신 자료를 참고해야 합니다.\\n\\n4. **세액 계산:**\\n   - 세액 = 과세표준 × 세율\\n   - 대략적으로 4,250만원 × 15% = 637.5만원\\n\\n5. **세액공제 및 추가 공제 적용:**\\n   - 기본공제 및 추가 세액공제를 적용합니다. 인적공제 등 추가 공제를 반영합니다.\\n   - 인적공제는 본인, 배우자, 부양 가족 수에 따라 달라질 수 있습니다.\\n\\n최종 소득세는 해당 절차에 따라 공제를 반영한 후 계산됩니다. 개인별 상황, 가족 구성, 공제 항목에 따라 다소 차이가 있을 수 있으니, 실제 계산시 세무 전문가의 상담을 받거나 국세청 등의 공식 자료를 참고하시는 것이 좋습니다.'"
   ]
  },
  {
   "cell_type": "code",
   "execution_count": 41,
   "id": "2a80b0ac",
   "metadata": {},
   "outputs": [
    {
     "name": "stderr",
     "output_type": "stream",
     "text": [
      "/Users/a82105/.pyenv/versions/3.10.13/envs/inflearn-llm-application/lib/python3.10/site-packages/langsmith/client.py:272: LangSmithMissingAPIKeyWarning: API key must be provided when using hosted LangSmith API\n",
      "  warnings.warn(\n"
     ]
    }
   ],
   "source": [
    "from langchain import hub\n",
    "\n",
    "prompt = hub.pull(\"rlm/rag-prompt\")"
   ]
  },
  {
   "cell_type": "code",
   "execution_count": 35,
   "id": "6f614694",
   "metadata": {},
   "outputs": [
    {
     "data": {
      "text/plain": [
       "ChatPromptTemplate(input_variables=['context', 'question'], input_types={}, partial_variables={}, metadata={'lc_hub_owner': 'rlm', 'lc_hub_repo': 'rag-prompt', 'lc_hub_commit_hash': '50442af133e61576e74536c6556cefe1fac147cad032f4377b60c436e6cdcb6e'}, messages=[HumanMessagePromptTemplate(prompt=PromptTemplate(input_variables=['context', 'question'], input_types={}, partial_variables={}, template=\"You are an assistant for question-answering tasks. Use the following pieces of retrieved context to answer the question. If you don't know the answer, just say that you don't know. Use three sentences maximum and keep the answer concise.\\nQuestion: {question} \\nContext: {context} \\nAnswer:\"), additional_kwargs={})])"
      ]
     },
     "execution_count": 35,
     "metadata": {},
     "output_type": "execute_result"
    }
   ],
   "source": [
    "prompt"
   ]
  },
  {
   "cell_type": "code",
   "execution_count": 44,
   "id": "361aa604",
   "metadata": {},
   "outputs": [],
   "source": [
    "from langchain.chains import  RetrievalQA\n",
    "\n",
    "qa_chain = RetrievalQA.from_chain_type(\n",
    "    llm,\n",
    "    retriever=database.as_retriever(),\n",
    "    chain_type_kwargs={\"prompt\": prompt}\n",
    ")"
   ]
  },
  {
   "cell_type": "code",
   "execution_count": 45,
   "id": "2c6551f7",
   "metadata": {},
   "outputs": [
    {
     "name": "stderr",
     "output_type": "stream",
     "text": [
      "/var/folders/pq/jlf5ggcj54319wh5nmkczkkc0000gn/T/ipykernel_43276/3455095564.py:1: LangChainDeprecationWarning: The method `Chain.__call__` was deprecated in langchain 0.1.0 and will be removed in 1.0. Use :meth:`~invoke` instead.\n",
      "  ai_message = qa_chain({\"query\": query})\n"
     ]
    }
   ],
   "source": [
    "ai_message = qa_chain({\"query\": query})"
   ]
  },
  {
   "cell_type": "code",
   "execution_count": 46,
   "id": "bfb4e2b3",
   "metadata": {},
   "outputs": [
    {
     "data": {
      "text/plain": [
       "{'query': '연봉 5천만원인 직장인의 소득세는 얼마인가요?',\n",
       " 'result': '소득세 계산에 대한 명확한 정보를 제공할 수 있는 구체적인 세율이나 공제 정보가 컨텍스트에 포함되어 있지 않습니다. 따라서 연봉 5천만원에 대한 소득세 계산은 불가능합니다. 소득세 계산을 위해서는 과세표준 및 공제 내역 등의 구체적인 세법 정보가 필요합니다.'}"
      ]
     },
     "execution_count": 46,
     "metadata": {},
     "output_type": "execute_result"
    }
   ],
   "source": [
    "ai_message"
   ]
  },
  {
   "cell_type": "code",
   "execution_count": 21,
   "id": "c30d66a9",
   "metadata": {},
   "outputs": [],
   "source": [
    "from langchain_community.document_loaders import Docx2txtLoader\n",
    "from langchain_text_splitters import RecursiveCharacterTextSplitter\n",
    "\n",
    "text_splitter = RecursiveCharacterTextSplitter(\n",
    "    chunk_size=500,\n",
    "    chunk_overlap=50,\n",
    ")\n",
    "\n",
    "loader = Docx2txtLoader('./tax.docx')\n",
    "document_list = loader.load_and_split(text_splitter=text_splitter)"
   ]
  },
  {
   "cell_type": "code",
   "execution_count": 22,
   "id": "5b429ab5",
   "metadata": {},
   "outputs": [
    {
     "data": {
      "text/plain": [
       "Document(metadata={'source': './tax.docx'}, page_content='2. 법인의 잉여금의 전부 또는 일부를 자본 또는 출자에 전입함으로써 취득하는 주식 또는 출자지분의 가액. 다만, 다음 각 목의 어느 하나에 해당하는 금액을 자본에 전입하는 경우는 제외한다.\\n\\n가. 「상법」 제459조제1항에 따른 자본준비금으로서 대통령령으로 정하는 것\\n\\n나. 「자산재평가법」에 따른 재평가적립금(같은 법 제13조제1항제1호에 따른 토지의 재평가차액에 상당하는 금액은 제외한다)\\n\\n3. 해산한 법인(법인으로 보는 단체를 포함한다)의 주주ㆍ사원ㆍ출자자 또는 구성원이 그 법인의 해산으로 인한 잔여재산의 분배로 취득하는 금전이나 그 밖의 재산의 가액이 해당 주식ㆍ출자지분 또는 자본을 취득하기 위하여 사용된 금액을 초과하는 금액. 다만, 내국법인이 조직변경하는 경우로서 다음 각 목의 어느 하나에 해당하는 경우는 제외한다.\\n\\n가. 「상법」에 따라 조직변경하는 경우\\n\\n나. 특별법에 따라 설립된 법인이 해당 특별법의 개정 또는 폐지에 따라 「상법」에 따른 회사로 조직변경하는 경우')"
      ]
     },
     "execution_count": 22,
     "metadata": {},
     "output_type": "execute_result"
    }
   ],
   "source": [
    "document_list[52]"
   ]
  },
  {
   "cell_type": "code",
   "execution_count": 23,
   "id": "f52b2c9a",
   "metadata": {},
   "outputs": [],
   "source": [
    "from dotenv import load_dotenv\n",
    "from langchain_openai import OpenAIEmbeddings\n",
    "\n",
    "load_dotenv()\n",
    "\n",
    "embedding = OpenAIEmbeddings(model='text-embedding-3-large')"
   ]
  },
  {
   "cell_type": "code",
   "execution_count": 26,
   "id": "06425d20",
   "metadata": {},
   "outputs": [],
   "source": [
    "import os\n",
    "from pinecone import Pinecone\n",
    "from langchain_pinecone import PineconeVectorStore\n",
    "\n",
    "index_name = 'tex-index'\n",
    "pinecone_api_key = os.environ.get(\"PINECONE_API_KEY\")\n",
    "pc = Pinecone(api_key=pinecone_api_key)\n",
    "\n",
    "database = PineconeVectorStore.from_documents(\n",
    "    document_list,\n",
    "    embedding,\n",
    "    index_name=index_name,\n",
    "    batch_size=1,             \n",
    "    embeddings_chunk_size=20, \n",
    ")"
   ]
  },
  {
   "cell_type": "code",
   "execution_count": 27,
   "id": "f79fc7c8",
   "metadata": {},
   "outputs": [],
   "source": [
    "query = '연봉 5천만원인 거주자의 종합소득세는?'"
   ]
  },
  {
   "cell_type": "code",
   "execution_count": 28,
   "id": "c5bd6749",
   "metadata": {},
   "outputs": [
    {
     "data": {
      "text/plain": [
       "[Document(id='e1c51f33-2825-443e-9cc4-3f16faf478d1', metadata={'source': './tax.docx'}, page_content='[시행일: 2027. 1. 1.]  제64조의3제2항\\n\\n\\n\\n제64조의4(연금소득에 대한 세액 계산의 특례) 제20조의3제1항제2호 및 제3호에 따른 연금소득 중 분리과세연금소득 외의 연금소득이 있는 거주자의 종합소득 결정세액은 다음 각 호의 세액 중 하나를 선택하여 적용한다.\\n\\n1. 종합소득 결정세액\\n\\n2. 다음 각 목의 세액을 더한 금액\\n\\n가. 제20조의3제1항제2호 및 제3호에 따른 연금소득 중 분리과세연금소득 외의 연금소득에 100분의 15를 곱하여 산출한 금액\\n\\n나. 가목 외의 종합소득 결정세액\\n\\n[본조신설 2022. 12. 31.]\\n\\n\\n\\n제6절 중간예납ㆍ예정신고 및 세액 납부 <개정 2009. 12. 31.>\\n\\n\\n\\n제1관 중간예납 <개정 2009. 12. 31.>'),\n",
       " Document(id='d706cb54-8728-495a-9365-56a67dc9a033', metadata={'source': './tax.docx'}, page_content='제1관 세율 <개정 2009. 12. 31.>\\n\\n\\n\\n제55조(세율) ①거주자의 종합소득에 대한 소득세는 해당 연도의 종합소득과세표준에 다음의 세율을 적용하여 계산한 금액(이하 “종합소득산출세액”이라 한다)을 그 세액으로 한다. <개정 2014. 1. 1., 2016. 12. 20., 2017. 12. 19., 2020. 12. 29., 2022. 12. 31.>\\n\\n\\n\\n② 거주자의 퇴직소득에 대한 소득세는 다음 각 호의 순서에 따라 계산한 금액(이하 “퇴직소득 산출세액”이라 한다)으로 한다.<개정 2013. 1. 1., 2014. 12. 23.>\\n\\n1. 해당 과세기간의 퇴직소득과세표준에 제1항의 세율을 적용하여 계산한 금액\\n\\n2. 제1호의 금액을 12로 나눈 금액에 근속연수를 곱한 금액\\n\\n3. 삭제<2014. 12. 23.>\\n\\n[전문개정 2009. 12. 31.]\\n\\n\\n\\n제2관 세액공제 <개정 2009. 12. 31.>'),\n",
       " Document(id='8a916e40-d15b-4666-be33-ddfeab2552e8', metadata={'source': './tax.docx'}, page_content='1. 3주택 이상을 소유하고 해당 주택의 보증금등의 합계액이 3억원을 초과하는 경우\\n\\n2. 2주택(해당 과세기간의 기준시가가 12억원 이하인 주택은 주택 수에 포함하지 아니한다)을 소유하고 해당 주택의 보증금등의 합계액이 3억원 이상의 금액으로서 대통령령으로 정하는 금액을 초과하는 경우\\n\\n② 거주자가 재고자산(在庫資産) 또는 임목을 가사용으로 소비하거나 종업원 또는 타인에게 지급한 경우에도 이를 소비하거나 지급하였을 때의 가액에 해당하는 금액은 그 소비하거나 지급한 날이 속하는 과세기간의 사업소득금액 또는 기타소득금액을 계산할 때 총수입금액에 산입한다.\\n\\n③ 삭제<2017. 12. 19.>\\n\\n[시행일: 2026. 1. 1.] 제25조제1항제2호\\n\\n\\n\\n제26조(총수입금액 불산입) ① 거주자가 소득세 또는 개인지방소득세를 환급받았거나 환급받을 금액 중 다른 세액에 충당한 금액은 해당 과세기간의 소득금액을 계산할 때 총수입금액에 산입하지 아니한다. <개정 2014. 1. 1.>'),\n",
       " Document(id='c28ceb84-8d2d-42b9-9f71-e238fd367df9', metadata={'source': './tax.docx'}, page_content='③ 제1항과 제2항에 따른 공제를 “퇴직소득공제”라 한다.\\n\\n④ 퇴직소득공제의 계산 방법에 관하여 필요한 사항은 대통령령으로 정한다.<개정 2013. 1. 1.>\\n\\n⑤ 삭제<2013. 1. 1.>\\n\\n[전문개정 2009. 12. 31.]\\n\\n\\n\\n제49조 삭제 <2006. 12. 30.>\\n\\n\\n\\n제6관 종합소득공제 <개정 2009. 12. 31.>\\n\\n\\n\\n제50조(기본공제) ① 종합소득이 있는 거주자(자연인만 해당한다)에 대해서는 다음 각 호의 어느 하나에 해당하는 사람의 수에 1명당 연 150만원을 곱하여 계산한 금액을 그 거주자의 해당 과세기간의 종합소득금액에서 공제한다. <개정 2015. 12. 15., 2024. 12. 31.>\\n\\n1. 해당 거주자\\n\\n2. 거주자의 배우자로서 해당 과세기간의 소득금액이 없거나 해당 과세기간의 소득금액 합계액이 100만원 이하인 사람(총급여액 500만원 이하의 근로소득만 있는 배우자를 포함한다)')]"
      ]
     },
     "execution_count": 28,
     "metadata": {},
     "output_type": "execute_result"
    }
   ],
   "source": [
    "retriever = database.as_retriever(search_kwargs={'k': 4})\n",
    "retriever.invoke(query)"
   ]
  },
  {
   "cell_type": "code",
   "execution_count": 29,
   "id": "d592d85d",
   "metadata": {},
   "outputs": [
    {
     "name": "stderr",
     "output_type": "stream",
     "text": [
      "/Users/a82105/.pyenv/versions/3.10.13/envs/inflearn-llm-application/lib/python3.10/site-packages/langsmith/client.py:272: LangSmithMissingAPIKeyWarning: API key must be provided when using hosted LangSmith API\n",
      "  warnings.warn(\n"
     ]
    }
   ],
   "source": [
    "from langchain import hub\n",
    "\n",
    "prompt = hub.pull(\"rlm/rag-prompt\")"
   ]
  },
  {
   "cell_type": "code",
   "execution_count": 30,
   "id": "abc7678a",
   "metadata": {},
   "outputs": [],
   "source": [
    "from langchain_openai import ChatOpenAI\n",
    "\n",
    "llm = ChatOpenAI(model='gpt-4o')"
   ]
  },
  {
   "cell_type": "code",
   "execution_count": 31,
   "id": "fd32daec",
   "metadata": {},
   "outputs": [],
   "source": [
    "from langchain.chains import RetrievalQA\n",
    "\n",
    "\n",
    "qa_chain = RetrievalQA.from_chain_type(\n",
    "    llm, \n",
    "    retriever=retriever,\n",
    "    chain_type_kwargs={\"prompt\": prompt}\n",
    ")"
   ]
  },
  {
   "cell_type": "code",
   "execution_count": 32,
   "id": "7967ff52",
   "metadata": {},
   "outputs": [],
   "source": [
    "ai_message = qa_chain.invoke({\"query\": query})"
   ]
  },
  {
   "cell_type": "code",
   "execution_count": 33,
   "id": "c2a52dcc",
   "metadata": {},
   "outputs": [
    {
     "data": {
      "text/plain": [
       "{'query': '연봉 5천만원인 거주자의 종합소득세는?',\n",
       " 'result': '종합소득세는 종합소득과세표준에 따라 세율을 적용하여 계산됩니다. 연봉 5천만원의 경우, 과세표준에 따라 계산해야 정확한 세액을 구할 수 있지만, 제공된 문서에서는 구체적인 세율 정보가 누락되어 있습니다. 정확한 세액을 알기 위해서는 구체적인 세율표나 과세 표준이 필요합니다.'}"
      ]
     },
     "execution_count": 33,
     "metadata": {},
     "output_type": "execute_result"
    }
   ],
   "source": [
    "ai_message"
   ]
  }
 ],
 "metadata": {
  "kernelspec": {
   "display_name": "inflearn-llm-application",
   "language": "python",
   "name": "python3"
  },
  "language_info": {
   "codemirror_mode": {
    "name": "ipython",
    "version": 3
   },
   "file_extension": ".py",
   "mimetype": "text/x-python",
   "name": "python",
   "nbconvert_exporter": "python",
   "pygments_lexer": "ipython3",
   "version": "3.10.13"
  }
 },
 "nbformat": 4,
 "nbformat_minor": 5
}
