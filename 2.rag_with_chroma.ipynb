{
 "cells": [
  {
   "cell_type": "code",
   "execution_count": 36,
   "id": "bda23848",
   "metadata": {},
   "outputs": [],
   "source": [
    "from langchain_community.document_loaders import Docx2txtLoader\n",
    "from langchain_text_splitters import RecursiveCharacterTextSplitter\n",
    "\n",
    "text_splitter = RecursiveCharacterTextSplitter(\n",
    "    chunk_size=1500,\n",
    "    chunk_overlap=200,\n",
    ")\n",
    "\n",
    "loader = Docx2txtLoader('./tax.docx')\n",
    "document_list = loader.load_and_split(text_splitter=text_splitter)"
   ]
  },
  {
   "cell_type": "code",
   "execution_count": 37,
   "id": "2a6f959e",
   "metadata": {},
   "outputs": [],
   "source": [
    "from dotenv import load_dotenv\n",
    "from langchain_openai import OpenAIEmbeddings\n",
    "\n",
    "load_dotenv()\n",
    "\n",
    "embedding = OpenAIEmbeddings(model='text-embedding-3-large')"
   ]
  },
  {
   "cell_type": "code",
   "execution_count": 43,
   "id": "a3bb612d",
   "metadata": {},
   "outputs": [],
   "source": [
    "from langchain_chroma import Chroma\n",
    "\n",
    "# database = Chroma.from_documents(documents=document_list, collection_name='chroma-tax', embedding=embedding,persist_directory=\"./chroma\")\n",
    "database = Chroma(collection_name='chroma-tax', persist_directory='./chroma', embedding_function=embedding)"
   ]
  },
  {
   "cell_type": "code",
   "execution_count": 39,
   "id": "24a32d6f",
   "metadata": {},
   "outputs": [],
   "source": [
    "query = '연봉 5천만원인 직장인의 소득세는 얼마인가요?'\n",
    "\n",
    "# retrieved_docs = database.similarity_search(query, k=3)"
   ]
  },
  {
   "cell_type": "markdown",
   "id": "050319fa",
   "metadata": {},
   "source": []
  },
  {
   "cell_type": "code",
   "execution_count": 40,
   "id": "f3265696",
   "metadata": {},
   "outputs": [],
   "source": [
    "from langchain_openai import ChatOpenAI\n",
    "\n",
    "llm = ChatOpenAI(model='gpt-4o')"
   ]
  },
  {
   "cell_type": "code",
   "execution_count": null,
   "id": "fdda0fff",
   "metadata": {},
   "outputs": [],
   "source": [
    "# prompt = f\"\"\"[Identity]\n",
    "# - 당신은 최고의 한국 소득세 전문가 입니다\n",
    "# - [Context]를 참고해서 사용자의 질문에 답변해주세요\n",
    "\n",
    "# [Context]\n",
    "# {retrieved_docs}\n",
    "\n",
    "# Question: {query}\n",
    "# \"\"\"\n"
   ]
  },
  {
   "cell_type": "code",
   "execution_count": null,
   "id": "c4017f79",
   "metadata": {},
   "outputs": [],
   "source": [
    "# ai_message = llm.invoke(prompt)"
   ]
  },
  {
   "cell_type": "code",
   "execution_count": null,
   "id": "219a0bdc",
   "metadata": {},
   "outputs": [
    {
     "data": {
      "text/plain": [
       "'연봉 5천만 원인 직장인의 소득세를 계산하려면 여러 요소를 고려해야 합니다. 한국 소득세는 누진세 구조를 가지고 있으므로, 소득 구간에 따라 다른 세율이 적용됩니다. 기본적인 과세 표준과 세율, 그리고 공제 항목을 고려해서 계산합니다. \\n\\n기본적으로 적용되는 세율은 다음과 같습니다 (이 세율은 참고용이며, 최신 세율은 정부의 공식 문서를 참조해야 합니다):\\n\\n- 1,200만 원 이하: 6%\\n- 1,200만 원 초과 ~ 4,600만 원 이하: 15%\\n- 4,600만 원 초과 ~ 8,800만 원 이하: 24%\\n- 8,800만 원 초과: 35% \\n\\n연봉 5천만 원인 경우:\\n1. 1,200만 원까지는 6%의 세율이 적용됩니다: 1,200만 원 × 6% = 72만 원\\n2. 1,200만 원 초과 ~ 4,600만 원까지는 15%의 세율이 적용됩니다: 3,400만 원 × 15% = 510만 원\\n3. 4,600만 원 초과분 400만 원에 대해서는 24%의 세율이 적용됩니다: 400만 원 × 24% = 96만 원\\n\\n이제 각 구간의 세액을 합산하여 총세액을 계산합니다:\\n- 72만 원 + 510만 원 + 96만 원 = 678만 원\\n\\n이 계산은 기본적인 예시입니다. 여기서 소득공제나 세액공제 같은 개인의 구체적인 상황에 따라 최종적인 소득세가 달라질 수 있습니다. 공제항목에는 의료비, 교육비, 보험료, 주택자금, 기부금 등이 포함될 수 있으므로, 이를 적용하면 실질적인 세액은 달라질 수 있습니다. 개인의 정확한 소득세를 계산하기 위해서는 이러한 다양한 요소를 고려한 세무 전문가의 상담이 필요합니다.'"
      ]
     },
     "execution_count": 32,
     "metadata": {},
     "output_type": "execute_result"
    }
   ],
   "source": [
    "# ai_message.content"
   ]
  },
  {
   "cell_type": "markdown",
   "id": "d25f4d2a",
   "metadata": {},
   "source": [
    "'직장인의 소득세를 계산하려면, 과세표준과 세율을 적용하여야 합니다. 연봉 5천만원인 경우, 이를 바탕으로 소득세를 계산하는 절차는 대략 다음과 같습니다 (2023년 기준의 세율과 공제를 사용합니다):\\n\\n1. **과세표준 계산:**\\n   - 우선 총급여액에서 근로소득공제를 차감하여 과세표준을 계산해야 합니다.\\n   - 근로소득공제는 총급여액에 따라 달라지며, 일반적으로 표준 공제율이나 금액을 적용합니다.\\n   - 근로소득공제 예시 (변동 가능): 총급여액 5천만원인 경우 약 15% 정도의 근로소득공제가 일반적으로 사용됩니다. 이를 따르면 근로소득공제액은 대략 750만원 정도입니다.\\n   \\n2. **과세표준 구하기:**\\n   - 과세표준 = 총급여액 - 근로소득공제\\n   - 과세표준 = 5,000만원 - 750만원 = 4,250만원\\n\\n3. **세율 적용:**\\n   - 한국의 소득세는 누진세율 구조로 되어 있습니다. 과세표준에 따라 적용되는 세율이 다릅니다.\\n   - 만약 과세표준이 1,200만원 초과 ~ 4,600만원 이하 구간에 있다면, 대략의 세율은 15%입니다. 정확한 세율 및 구간은 변동 가능하니 최신 자료를 참고해야 합니다.\\n\\n4. **세액 계산:**\\n   - 세액 = 과세표준 × 세율\\n   - 대략적으로 4,250만원 × 15% = 637.5만원\\n\\n5. **세액공제 및 추가 공제 적용:**\\n   - 기본공제 및 추가 세액공제를 적용합니다. 인적공제 등 추가 공제를 반영합니다.\\n   - 인적공제는 본인, 배우자, 부양 가족 수에 따라 달라질 수 있습니다.\\n\\n최종 소득세는 해당 절차에 따라 공제를 반영한 후 계산됩니다. 개인별 상황, 가족 구성, 공제 항목에 따라 다소 차이가 있을 수 있으니, 실제 계산시 세무 전문가의 상담을 받거나 국세청 등의 공식 자료를 참고하시는 것이 좋습니다.'"
   ]
  },
  {
   "cell_type": "code",
   "execution_count": 41,
   "id": "2a80b0ac",
   "metadata": {},
   "outputs": [
    {
     "name": "stderr",
     "output_type": "stream",
     "text": [
      "/Users/a82105/.pyenv/versions/3.10.13/envs/inflearn-llm-application/lib/python3.10/site-packages/langsmith/client.py:272: LangSmithMissingAPIKeyWarning: API key must be provided when using hosted LangSmith API\n",
      "  warnings.warn(\n"
     ]
    }
   ],
   "source": [
    "from langchain import hub\n",
    "\n",
    "prompt = hub.pull(\"rlm/rag-prompt\")"
   ]
  },
  {
   "cell_type": "code",
   "execution_count": 35,
   "id": "6f614694",
   "metadata": {},
   "outputs": [
    {
     "data": {
      "text/plain": [
       "ChatPromptTemplate(input_variables=['context', 'question'], input_types={}, partial_variables={}, metadata={'lc_hub_owner': 'rlm', 'lc_hub_repo': 'rag-prompt', 'lc_hub_commit_hash': '50442af133e61576e74536c6556cefe1fac147cad032f4377b60c436e6cdcb6e'}, messages=[HumanMessagePromptTemplate(prompt=PromptTemplate(input_variables=['context', 'question'], input_types={}, partial_variables={}, template=\"You are an assistant for question-answering tasks. Use the following pieces of retrieved context to answer the question. If you don't know the answer, just say that you don't know. Use three sentences maximum and keep the answer concise.\\nQuestion: {question} \\nContext: {context} \\nAnswer:\"), additional_kwargs={})])"
      ]
     },
     "execution_count": 35,
     "metadata": {},
     "output_type": "execute_result"
    }
   ],
   "source": [
    "prompt"
   ]
  },
  {
   "cell_type": "code",
   "execution_count": 44,
   "id": "361aa604",
   "metadata": {},
   "outputs": [],
   "source": [
    "from langchain.chains import  RetrievalQA\n",
    "\n",
    "qa_chain = RetrievalQA.from_chain_type(\n",
    "    llm,\n",
    "    retriever=database.as_retriever(),\n",
    "    chain_type_kwargs={\"prompt\": prompt}\n",
    ")"
   ]
  },
  {
   "cell_type": "code",
   "execution_count": 45,
   "id": "2c6551f7",
   "metadata": {},
   "outputs": [
    {
     "name": "stderr",
     "output_type": "stream",
     "text": [
      "/var/folders/pq/jlf5ggcj54319wh5nmkczkkc0000gn/T/ipykernel_43276/3455095564.py:1: LangChainDeprecationWarning: The method `Chain.__call__` was deprecated in langchain 0.1.0 and will be removed in 1.0. Use :meth:`~invoke` instead.\n",
      "  ai_message = qa_chain({\"query\": query})\n"
     ]
    }
   ],
   "source": [
    "ai_message = qa_chain({\"query\": query})"
   ]
  },
  {
   "cell_type": "code",
   "execution_count": 46,
   "id": "bfb4e2b3",
   "metadata": {},
   "outputs": [
    {
     "data": {
      "text/plain": [
       "{'query': '연봉 5천만원인 직장인의 소득세는 얼마인가요?',\n",
       " 'result': '소득세 계산에 대한 명확한 정보를 제공할 수 있는 구체적인 세율이나 공제 정보가 컨텍스트에 포함되어 있지 않습니다. 따라서 연봉 5천만원에 대한 소득세 계산은 불가능합니다. 소득세 계산을 위해서는 과세표준 및 공제 내역 등의 구체적인 세법 정보가 필요합니다.'}"
      ]
     },
     "execution_count": 46,
     "metadata": {},
     "output_type": "execute_result"
    }
   ],
   "source": [
    "ai_message"
   ]
  },
  {
   "cell_type": "code",
   "execution_count": null,
   "id": "c30d66a9",
   "metadata": {},
   "outputs": [],
   "source": []
  }
 ],
 "metadata": {
  "kernelspec": {
   "display_name": "inflearn-llm-application",
   "language": "python",
   "name": "python3"
  },
  "language_info": {
   "codemirror_mode": {
    "name": "ipython",
    "version": 3
   },
   "file_extension": ".py",
   "mimetype": "text/x-python",
   "name": "python",
   "nbconvert_exporter": "python",
   "pygments_lexer": "ipython3",
   "version": "3.10.13"
  }
 },
 "nbformat": 4,
 "nbformat_minor": 5
}
